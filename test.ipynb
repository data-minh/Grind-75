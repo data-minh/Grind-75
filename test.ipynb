{
 "cells": [
  {
   "cell_type": "code",
   "execution_count": 16,
   "metadata": {},
   "outputs": [],
   "source": [
    "class Solution:\n",
    "    def backspaceCompare(self, s, t):\n",
    "        \"\"\"\n",
    "        :type s: str\n",
    "        :type t: str\n",
    "        :rtype: bool\n",
    "        \"\"\"\n",
    "        char = '#'\n",
    "        index_s = s.find(char)\n",
    "        index_t = t.find(char)\n",
    "        # Case s\n",
    "        while index_s != -1:\n",
    "            if index_s == 0:\n",
    "                s = s[:index_s] + s[index_s+1:]\n",
    "            else:\n",
    "                s = s[:index_s-1] + s[index_s+1:]\n",
    "            index_s = s.find(char)\n",
    "\n",
    "        # Case t\n",
    "        while index_t != -1:\n",
    "            if index_t == 0:\n",
    "                t = t[:index_t] + t[index_t+1:]\n",
    "            else:\n",
    "                t = t[:index_t-1] + t[index_t+1:]\n",
    "            index_t = t.find(char)  \n",
    "\n",
    "        return s == t"
   ]
  },
  {
   "cell_type": "code",
   "execution_count": 17,
   "metadata": {},
   "outputs": [
    {
     "name": "stdout",
     "output_type": "stream",
     "text": [
      "fo##f\n",
      "f#f\n",
      "f\n",
      "f#o##f\n",
      "o##f\n",
      "#f\n",
      "\n",
      "f\n",
      "\n",
      "False\n"
     ]
    }
   ],
   "source": [
    "solution = Solution()\n",
    "\n",
    "s = \"y#fo##f\"\n",
    "t = \"y#f#o##f\"\n",
    "\n",
    "print(solution.backspaceCompare(s, t))"
   ]
  },
  {
   "cell_type": "code",
   "execution_count": 43,
   "metadata": {},
   "outputs": [
    {
     "name": "stdout",
     "output_type": "stream",
     "text": [
      "y#f#o##f 1\n",
      "f#o##f\n",
      "f#o##f 1\n",
      "o##f\n",
      "o##f 1\n",
      "#f\n",
      "#f 0\n",
      "f\n"
     ]
    }
   ],
   "source": [
    "t = \"y#f#o##f\"\n",
    "char = '#'\n",
    "index_t = t.find(char)  \n",
    "while index_t != -1:\n",
    "    print(t, index_t)\n",
    "    if index_t == 0:\n",
    "        t = t[:index_t] + t[index_t+1:]\n",
    "    else:\n",
    "        t = t[:index_t-1] + t[index_t+1:]\n",
    "    index_t = t.find(char)  \n",
    "    print(t)\n",
    "\n",
    "# t = \"#f\"\n",
    "# print(t[:0]+t[1:])\n"
   ]
  },
  {
   "cell_type": "code",
   "execution_count": 4,
   "metadata": {},
   "outputs": [
    {
     "name": "stdout",
     "output_type": "stream",
     "text": [
      "0 0\n",
      "1 1\n",
      "2 10\n",
      "3 11\n",
      "4 100\n",
      "5 101\n",
      "6 110\n",
      "7 111\n",
      "8 1000\n",
      "9 1001\n",
      "10 1010\n",
      "11 1011\n",
      "12 1100\n",
      "13 1101\n",
      "14 1110\n",
      "15 1111\n",
      "16 10000\n",
      "17 10001\n",
      "18 10010\n",
      "19 10011\n"
     ]
    }
   ],
   "source": [
    "for i in range(20):\n",
    "    print(i, bin(i)[2:])"
   ]
  },
  {
   "cell_type": "code",
   "execution_count": 17,
   "metadata": {},
   "outputs": [
    {
     "name": "stdout",
     "output_type": "stream",
     "text": [
      "True\n"
     ]
    }
   ],
   "source": [
    "print(True and True)"
   ]
  },
  {
   "cell_type": "code",
   "execution_count": 22,
   "metadata": {},
   "outputs": [
    {
     "data": {
      "text/plain": [
       "6"
      ]
     },
     "execution_count": 22,
     "metadata": {},
     "output_type": "execute_result"
    }
   ],
   "source": [
    "n = 2222\n",
    "\n",
    "s = str(bin(n))\n",
    "\n",
    "s.count('1')"
   ]
  }
 ],
 "metadata": {
  "kernelspec": {
   "display_name": "Python 3",
   "language": "python",
   "name": "python3"
  },
  "language_info": {
   "codemirror_mode": {
    "name": "ipython",
    "version": 3
   },
   "file_extension": ".py",
   "mimetype": "text/x-python",
   "name": "python",
   "nbconvert_exporter": "python",
   "pygments_lexer": "ipython3",
   "version": "3.12.5"
  }
 },
 "nbformat": 4,
 "nbformat_minor": 2
}
