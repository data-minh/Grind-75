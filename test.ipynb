{
 "cells": [
  {
   "cell_type": "code",
   "execution_count": 16,
   "metadata": {},
   "outputs": [],
   "source": [
    "class Solution:\n",
    "    def backspaceCompare(self, s, t):\n",
    "        \"\"\"\n",
    "        :type s: str\n",
    "        :type t: str\n",
    "        :rtype: bool\n",
    "        \"\"\"\n",
    "        char = '#'\n",
    "        index_s = s.find(char)\n",
    "        index_t = t.find(char)\n",
    "        # Case s\n",
    "        while index_s != -1:\n",
    "            if index_s == 0:\n",
    "                s = s[:index_s] + s[index_s+1:]\n",
    "            else:\n",
    "                s = s[:index_s-1] + s[index_s+1:]\n",
    "            index_s = s.find(char)\n",
    "\n",
    "        # Case t\n",
    "        while index_t != -1:\n",
    "            if index_t == 0:\n",
    "                t = t[:index_t] + t[index_t+1:]\n",
    "            else:\n",
    "                t = t[:index_t-1] + t[index_t+1:]\n",
    "            index_t = t.find(char)  \n",
    "\n",
    "        return s == t"
   ]
  },
  {
   "cell_type": "code",
   "execution_count": 17,
   "metadata": {},
   "outputs": [
    {
     "name": "stdout",
     "output_type": "stream",
     "text": [
      "fo##f\n",
      "f#f\n",
      "f\n",
      "f#o##f\n",
      "o##f\n",
      "#f\n",
      "\n",
      "f\n",
      "\n",
      "False\n"
     ]
    }
   ],
   "source": [
    "solution = Solution()\n",
    "\n",
    "s = \"y#fo##f\"\n",
    "t = \"y#f#o##f\"\n",
    "\n",
    "print(solution.backspaceCompare(s, t))"
   ]
  },
  {
   "cell_type": "code",
   "execution_count": 43,
   "metadata": {},
   "outputs": [
    {
     "name": "stdout",
     "output_type": "stream",
     "text": [
      "y#f#o##f 1\n",
      "f#o##f\n",
      "f#o##f 1\n",
      "o##f\n",
      "o##f 1\n",
      "#f\n",
      "#f 0\n",
      "f\n"
     ]
    }
   ],
   "source": [
    "t = \"y#f#o##f\"\n",
    "char = '#'\n",
    "index_t = t.find(char)  \n",
    "while index_t != -1:\n",
    "    print(t, index_t)\n",
    "    if index_t == 0:\n",
    "        t = t[:index_t] + t[index_t+1:]\n",
    "    else:\n",
    "        t = t[:index_t-1] + t[index_t+1:]\n",
    "    index_t = t.find(char)  \n",
    "    print(t)\n",
    "\n",
    "# t = \"#f\"\n",
    "# print(t[:0]+t[1:])\n"
   ]
  },
  {
   "cell_type": "code",
   "execution_count": 6,
   "metadata": {},
   "outputs": [
    {
     "name": "stdout",
     "output_type": "stream",
     "text": [
      "0b101\n"
     ]
    }
   ],
   "source": [
    "print(bin())"
   ]
  }
 ],
 "metadata": {
  "kernelspec": {
   "display_name": "Python 3",
   "language": "python",
   "name": "python3"
  },
  "language_info": {
   "codemirror_mode": {
    "name": "ipython",
    "version": 3
   },
   "file_extension": ".py",
   "mimetype": "text/x-python",
   "name": "python",
   "nbconvert_exporter": "python",
   "pygments_lexer": "ipython3",
   "version": "3.12.5"
  }
 },
 "nbformat": 4,
 "nbformat_minor": 2
}
